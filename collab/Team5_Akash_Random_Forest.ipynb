{
  "nbformat": 4,
  "nbformat_minor": 0,
  "metadata": {
    "colab": {
      "provenance": [],
      "gpuType": "T4"
    },
    "kernelspec": {
      "name": "python3",
      "display_name": "Python 3"
    },
    "language_info": {
      "name": "python"
    },
    "accelerator": "GPU"
  },
  "cells": [
    {
      "cell_type": "code",
      "execution_count": 2,
      "metadata": {
        "id": "SmznB8gRWtsM"
      },
      "outputs": [],
      "source": [
        "import pandas as pd\n",
        "import numpy as np\n",
        "from sklearn.model_selection import train_test_split\n",
        "from sklearn.preprocessing import StandardScaler\n",
        "from sklearn.impute import SimpleImputer\n",
        "from sklearn.feature_selection import RFE\n",
        "from sklearn.ensemble import RandomForestClassifier\n",
        "from sklearn.metrics import accuracy_score, confusion_matrix, classification_report"
      ]
    },
    {
      "cell_type": "code",
      "source": [
        "from google.colab import drive\n",
        "drive.mount('/content/drive')"
      ],
      "metadata": {
        "colab": {
          "base_uri": "https://localhost:8080/"
        },
        "id": "LU-nhgbhC16n",
        "outputId": "f1dba085-a273-43d5-e060-cef629cbf5aa"
      },
      "execution_count": 2,
      "outputs": [
        {
          "output_type": "stream",
          "name": "stdout",
          "text": [
            "Drive already mounted at /content/drive; to attempt to forcibly remount, call drive.mount(\"/content/drive\", force_remount=True).\n"
          ]
        }
      ]
    },
    {
      "cell_type": "code",
      "source": [
        "import pandas as pd\n",
        "\n",
        "# Step 1: Load the datasets\n",
        "# Load the demographic data\n",
        "demo = pd.read_sas('DR1TOT_L.xpt')\n",
        "\n",
        "# Load the glucose data\n",
        "glu = pd.read_sas('GLU_L.XPT')\n",
        "\n",
        "\n",
        "print(\"Unique SEQN values in demo:\", demo['SEQN'].unique()[:10])\n",
        "print(\"Unique SEQN values in glu:\", glu['SEQN'].unique()[:10])"
      ],
      "metadata": {
        "colab": {
          "base_uri": "https://localhost:8080/"
        },
        "id": "MTnoMz9UeovG",
        "outputId": "c2abcc78-40a4-4e0d-b024-04c45042d5b5"
      },
      "execution_count": 3,
      "outputs": [
        {
          "output_type": "stream",
          "name": "stdout",
          "text": [
            "Unique SEQN values in demo: [130378. 130379. 130380. 130381. 130382. 130386. 130387. 130388. 130389.\n",
            " 130390.]\n",
            "Unique SEQN values in glu: [130378. 130379. 130380. 130386. 130394. 130395. 130396. 130397. 130398.\n",
            " 130402.]\n"
          ]
        }
      ]
    },
    {
      "cell_type": "code",
      "source": [
        "import pandas as pd\n",
        "from sklearn.preprocessing import LabelEncoder\n",
        "\n",
        "# Assuming demo and glu are predefined DataFrames\n",
        "# Step 2: Merge the datasets on SEQN (Participant ID)\n",
        "merged_data = pd.merge(demo, glu[['SEQN', 'LBXGLU']], on='SEQN', how='inner')\n",
        "print(merged_data.columns.tolist())\n",
        "\n",
        "# Step 3: Create a Target Label (Diabetes Status)\n",
        "merged_data['diabetes_status'] = merged_data['LBXGLU'].apply(lambda x: 1 if x >= 115 else 0)\n",
        "print(merged_data.columns.tolist())\n",
        "\n",
        "# 1. Remove rows where all column values are missing\n",
        "cleaned_data = merged_data.dropna(how='all')\n",
        "\n",
        "# 2. Identify categorical and numerical columns\n",
        "categorical_columns = cleaned_data.select_dtypes(include=['object', 'category']).columns\n",
        "numerical_columns = cleaned_data.select_dtypes(include=['int64', 'float64']).columns\n",
        "\n",
        "print(f\"Categorical Columns: {list(categorical_columns)}\")\n",
        "print(f\"Numerical Columns: {list(numerical_columns)}\")\n",
        "\n",
        "# 3. Fill missing values\n",
        "# Fill categorical columns with mode\n",
        "for col in categorical_columns:\n",
        "    cleaned_data[col].fillna(cleaned_data[col].mode()[0], inplace=True)\n",
        "\n",
        "# Fill numerical columns with mean\n",
        "for col in numerical_columns:\n",
        "    cleaned_data[col].fillna(cleaned_data[col].mean(), inplace=True)\n",
        "\n",
        "# 4. Encode categorical columns using Label Encoding\n",
        "label_encoders = {}\n",
        "for col in categorical_columns:\n",
        "    le = LabelEncoder()\n",
        "    cleaned_data[col] = le.fit_transform(cleaned_data[col])\n",
        "    label_encoders[col] = le  # Store the encoder for inverse transformation if needed\n",
        "\n",
        "print(\"Missing values handled and categorical data encoded.\")"
      ],
      "metadata": {
        "colab": {
          "base_uri": "https://localhost:8080/"
        },
        "id": "6xZZmgtyW9Mc",
        "outputId": "60fc6c62-3805-411a-c3e5-f6c95ae6e07c"
      },
      "execution_count": 4,
      "outputs": [
        {
          "output_type": "stream",
          "name": "stdout",
          "text": [
            "['SEQN', 'WTDRD1', 'WTDR2D', 'DR1DRSTZ', 'DR1EXMER', 'DRABF', 'DRDINT', 'DR1DBIH', 'DR1DAY', 'DR1LANG', 'DR1MRESP', 'DR1HELP', 'DBQ095Z', 'DBD100', 'DRQSPREP', 'DR1STY', 'DR1SKY', 'DRQSDIET', 'DRQSDT1', 'DRQSDT2', 'DRQSDT3', 'DRQSDT4', 'DRQSDT5', 'DRQSDT6', 'DRQSDT7', 'DRQSDT8', 'DRQSDT9', 'DRQSDT10', 'DRQSDT11', 'DRQSDT12', 'DRQSDT91', 'DR1TNUMF', 'DR1TKCAL', 'DR1TPROT', 'DR1TCARB', 'DR1TSUGR', 'DR1TFIBE', 'DR1TTFAT', 'DR1TSFAT', 'DR1TMFAT', 'DR1TPFAT', 'DR1TCHOL', 'DR1TATOC', 'DR1TATOA', 'DR1TRET', 'DR1TVARA', 'DR1TACAR', 'DR1TBCAR', 'DR1TCRYP', 'DR1TLYCO', 'DR1TLZ', 'DR1TVB1', 'DR1TVB2', 'DR1TNIAC', 'DR1TVB6', 'DR1TFOLA', 'DR1TFA', 'DR1TFF', 'DR1TFDFE', 'DR1TCHL', 'DR1TVB12', 'DR1TB12A', 'DR1TVC', 'DR1TVD', 'DR1TVK', 'DR1TCALC', 'DR1TPHOS', 'DR1TMAGN', 'DR1TIRON', 'DR1TZINC', 'DR1TCOPP', 'DR1TSODI', 'DR1TPOTA', 'DR1TSELE', 'DR1TCAFF', 'DR1TTHEO', 'DR1TALCO', 'DR1TMOIS', 'DR1TS040', 'DR1TS060', 'DR1TS080', 'DR1TS100', 'DR1TS120', 'DR1TS140', 'DR1TS160', 'DR1TS180', 'DR1TM161', 'DR1TM181', 'DR1TM201', 'DR1TM221', 'DR1TP182', 'DR1TP183', 'DR1TP184', 'DR1TP204', 'DR1TP205', 'DR1TP225', 'DR1TP226', 'DR1_300', 'DR1_320Z', 'DR1_330Z', 'DR1BWATZ', 'DR1TWSZ', 'DRD340', 'DRD350A', 'DRD350AQ', 'DRD350B', 'DRD350BQ', 'DRD350C', 'DRD350CQ', 'DRD350D', 'DRD350DQ', 'DRD350E', 'DRD350EQ', 'DRD350F', 'DRD350FQ', 'DRD350G', 'DRD350GQ', 'DRD350H', 'DRD350HQ', 'DRD350I', 'DRD350IQ', 'DRD350J', 'DRD350JQ', 'DRD350K', 'DRD360', 'DRD370A', 'DRD370AQ', 'DRD370B', 'DRD370BQ', 'DRD370C', 'DRD370CQ', 'DRD370D', 'DRD370DQ', 'DRD370E', 'DRD370EQ', 'DRD370F', 'DRD370FQ', 'DRD370G', 'DRD370GQ', 'DRD370H', 'DRD370HQ', 'DRD370I', 'DRD370IQ', 'DRD370J', 'DRD370JQ', 'DRD370K', 'DRD370KQ', 'DRD370L', 'DRD370LQ', 'DRD370M', 'DRD370MQ', 'DRD370N', 'DRD370NQ', 'DRD370O', 'DRD370OQ', 'DRD370P', 'DRD370PQ', 'DRD370Q', 'DRD370QQ', 'DRD370R', 'DRD370RQ', 'DRD370S', 'DRD370SQ', 'DRD370T', 'DRD370TQ', 'DRD370U', 'DRD370UQ', 'DRD370V', 'LBXGLU']\n",
            "['SEQN', 'WTDRD1', 'WTDR2D', 'DR1DRSTZ', 'DR1EXMER', 'DRABF', 'DRDINT', 'DR1DBIH', 'DR1DAY', 'DR1LANG', 'DR1MRESP', 'DR1HELP', 'DBQ095Z', 'DBD100', 'DRQSPREP', 'DR1STY', 'DR1SKY', 'DRQSDIET', 'DRQSDT1', 'DRQSDT2', 'DRQSDT3', 'DRQSDT4', 'DRQSDT5', 'DRQSDT6', 'DRQSDT7', 'DRQSDT8', 'DRQSDT9', 'DRQSDT10', 'DRQSDT11', 'DRQSDT12', 'DRQSDT91', 'DR1TNUMF', 'DR1TKCAL', 'DR1TPROT', 'DR1TCARB', 'DR1TSUGR', 'DR1TFIBE', 'DR1TTFAT', 'DR1TSFAT', 'DR1TMFAT', 'DR1TPFAT', 'DR1TCHOL', 'DR1TATOC', 'DR1TATOA', 'DR1TRET', 'DR1TVARA', 'DR1TACAR', 'DR1TBCAR', 'DR1TCRYP', 'DR1TLYCO', 'DR1TLZ', 'DR1TVB1', 'DR1TVB2', 'DR1TNIAC', 'DR1TVB6', 'DR1TFOLA', 'DR1TFA', 'DR1TFF', 'DR1TFDFE', 'DR1TCHL', 'DR1TVB12', 'DR1TB12A', 'DR1TVC', 'DR1TVD', 'DR1TVK', 'DR1TCALC', 'DR1TPHOS', 'DR1TMAGN', 'DR1TIRON', 'DR1TZINC', 'DR1TCOPP', 'DR1TSODI', 'DR1TPOTA', 'DR1TSELE', 'DR1TCAFF', 'DR1TTHEO', 'DR1TALCO', 'DR1TMOIS', 'DR1TS040', 'DR1TS060', 'DR1TS080', 'DR1TS100', 'DR1TS120', 'DR1TS140', 'DR1TS160', 'DR1TS180', 'DR1TM161', 'DR1TM181', 'DR1TM201', 'DR1TM221', 'DR1TP182', 'DR1TP183', 'DR1TP184', 'DR1TP204', 'DR1TP205', 'DR1TP225', 'DR1TP226', 'DR1_300', 'DR1_320Z', 'DR1_330Z', 'DR1BWATZ', 'DR1TWSZ', 'DRD340', 'DRD350A', 'DRD350AQ', 'DRD350B', 'DRD350BQ', 'DRD350C', 'DRD350CQ', 'DRD350D', 'DRD350DQ', 'DRD350E', 'DRD350EQ', 'DRD350F', 'DRD350FQ', 'DRD350G', 'DRD350GQ', 'DRD350H', 'DRD350HQ', 'DRD350I', 'DRD350IQ', 'DRD350J', 'DRD350JQ', 'DRD350K', 'DRD360', 'DRD370A', 'DRD370AQ', 'DRD370B', 'DRD370BQ', 'DRD370C', 'DRD370CQ', 'DRD370D', 'DRD370DQ', 'DRD370E', 'DRD370EQ', 'DRD370F', 'DRD370FQ', 'DRD370G', 'DRD370GQ', 'DRD370H', 'DRD370HQ', 'DRD370I', 'DRD370IQ', 'DRD370J', 'DRD370JQ', 'DRD370K', 'DRD370KQ', 'DRD370L', 'DRD370LQ', 'DRD370M', 'DRD370MQ', 'DRD370N', 'DRD370NQ', 'DRD370O', 'DRD370OQ', 'DRD370P', 'DRD370PQ', 'DRD370Q', 'DRD370QQ', 'DRD370R', 'DRD370RQ', 'DRD370S', 'DRD370SQ', 'DRD370T', 'DRD370TQ', 'DRD370U', 'DRD370UQ', 'DRD370V', 'LBXGLU', 'diabetes_status']\n",
            "Categorical Columns: []\n",
            "Numerical Columns: ['SEQN', 'WTDRD1', 'WTDR2D', 'DR1DRSTZ', 'DR1EXMER', 'DRABF', 'DRDINT', 'DR1DBIH', 'DR1DAY', 'DR1LANG', 'DR1MRESP', 'DR1HELP', 'DBQ095Z', 'DBD100', 'DRQSPREP', 'DR1STY', 'DR1SKY', 'DRQSDIET', 'DRQSDT1', 'DRQSDT2', 'DRQSDT3', 'DRQSDT4', 'DRQSDT5', 'DRQSDT6', 'DRQSDT7', 'DRQSDT8', 'DRQSDT9', 'DRQSDT10', 'DRQSDT11', 'DRQSDT12', 'DRQSDT91', 'DR1TNUMF', 'DR1TKCAL', 'DR1TPROT', 'DR1TCARB', 'DR1TSUGR', 'DR1TFIBE', 'DR1TTFAT', 'DR1TSFAT', 'DR1TMFAT', 'DR1TPFAT', 'DR1TCHOL', 'DR1TATOC', 'DR1TATOA', 'DR1TRET', 'DR1TVARA', 'DR1TACAR', 'DR1TBCAR', 'DR1TCRYP', 'DR1TLYCO', 'DR1TLZ', 'DR1TVB1', 'DR1TVB2', 'DR1TNIAC', 'DR1TVB6', 'DR1TFOLA', 'DR1TFA', 'DR1TFF', 'DR1TFDFE', 'DR1TCHL', 'DR1TVB12', 'DR1TB12A', 'DR1TVC', 'DR1TVD', 'DR1TVK', 'DR1TCALC', 'DR1TPHOS', 'DR1TMAGN', 'DR1TIRON', 'DR1TZINC', 'DR1TCOPP', 'DR1TSODI', 'DR1TPOTA', 'DR1TSELE', 'DR1TCAFF', 'DR1TTHEO', 'DR1TALCO', 'DR1TMOIS', 'DR1TS040', 'DR1TS060', 'DR1TS080', 'DR1TS100', 'DR1TS120', 'DR1TS140', 'DR1TS160', 'DR1TS180', 'DR1TM161', 'DR1TM181', 'DR1TM201', 'DR1TM221', 'DR1TP182', 'DR1TP183', 'DR1TP184', 'DR1TP204', 'DR1TP205', 'DR1TP225', 'DR1TP226', 'DR1_300', 'DR1_320Z', 'DR1_330Z', 'DR1BWATZ', 'DR1TWSZ', 'DRD340', 'DRD350A', 'DRD350AQ', 'DRD350B', 'DRD350BQ', 'DRD350C', 'DRD350CQ', 'DRD350D', 'DRD350DQ', 'DRD350E', 'DRD350EQ', 'DRD350F', 'DRD350FQ', 'DRD350G', 'DRD350GQ', 'DRD350H', 'DRD350HQ', 'DRD350I', 'DRD350IQ', 'DRD350J', 'DRD350JQ', 'DRD350K', 'DRD360', 'DRD370A', 'DRD370AQ', 'DRD370B', 'DRD370BQ', 'DRD370C', 'DRD370CQ', 'DRD370D', 'DRD370DQ', 'DRD370E', 'DRD370EQ', 'DRD370F', 'DRD370FQ', 'DRD370G', 'DRD370GQ', 'DRD370H', 'DRD370HQ', 'DRD370I', 'DRD370IQ', 'DRD370J', 'DRD370JQ', 'DRD370K', 'DRD370KQ', 'DRD370L', 'DRD370LQ', 'DRD370M', 'DRD370MQ', 'DRD370N', 'DRD370NQ', 'DRD370O', 'DRD370OQ', 'DRD370P', 'DRD370PQ', 'DRD370Q', 'DRD370QQ', 'DRD370R', 'DRD370RQ', 'DRD370S', 'DRD370SQ', 'DRD370T', 'DRD370TQ', 'DRD370U', 'DRD370UQ', 'DRD370V', 'LBXGLU', 'diabetes_status']\n",
            "Missing values handled and categorical data encoded.\n"
          ]
        },
        {
          "output_type": "stream",
          "name": "stderr",
          "text": [
            "<ipython-input-4-98db62c42e32>:30: FutureWarning: A value is trying to be set on a copy of a DataFrame or Series through chained assignment using an inplace method.\n",
            "The behavior will change in pandas 3.0. This inplace method will never work because the intermediate object on which we are setting values always behaves as a copy.\n",
            "\n",
            "For example, when doing 'df[col].method(value, inplace=True)', try using 'df.method({col: value}, inplace=True)' or df[col] = df[col].method(value) instead, to perform the operation inplace on the original object.\n",
            "\n",
            "\n",
            "  cleaned_data[col].fillna(cleaned_data[col].mean(), inplace=True)\n"
          ]
        }
      ]
    },
    {
      "cell_type": "code",
      "source": [
        "from sklearn.preprocessing import StandardScaler\n",
        "from sklearn.impute import SimpleImputer\n",
        "from sklearn.metrics import accuracy_score, precision_score, recall_score, f1_score\n",
        "from sklearn.model_selection import train_test_split\n",
        "# Step 7: Split Data into Features (X) and Target (y)\n",
        "X = cleaned_data.drop(columns=['diabetes_status'])\n",
        "y = cleaned_data['diabetes_status']\n",
        "\n",
        "# Step 8: Split Data into Training and Testing Sets\n",
        "X_train, X_test, y_train, y_test = train_test_split(X, y, test_size=0.2, random_state=42)\n",
        "\n",
        "# Store column names before transformations\n",
        "X_train_columns = X_train.columns\n",
        "\n",
        "# Step 9: Check and Impute Any Remaining NaNs\n",
        "imputer = SimpleImputer(strategy='mean')\n",
        "X_train = imputer.fit_transform(X_train)\n",
        "X_test = imputer.transform(X_test)\n",
        "\n",
        "# Step 10: Scale the Data\n",
        "scaler = StandardScaler()\n",
        "X_train = scaler.fit_transform(X_train)\n",
        "X_test = scaler.transform(X_test)"
      ],
      "metadata": {
        "id": "TwcxzbzgfMhF"
      },
      "execution_count": 5,
      "outputs": []
    },
    {
      "cell_type": "code",
      "source": [
        "import numpy as np\n",
        "\n",
        "# Count 1's and 0's\n",
        "count_ones = np.sum(y_train == 1)\n",
        "count_zeros = np.sum(y_train == 0)\n",
        "\n",
        "print(f\"Number of 1's: {count_ones}\")\n",
        "print(f\"Number of 0's: {count_zeros}\")"
      ],
      "metadata": {
        "colab": {
          "base_uri": "https://localhost:8080/"
        },
        "id": "wJ0qZ0ZwfS69",
        "outputId": "8ba10471-3e61-4c9e-c3bd-03954c777e8a"
      },
      "execution_count": 6,
      "outputs": [
        {
          "output_type": "stream",
          "name": "stdout",
          "text": [
            "Number of 1's: 539\n",
            "Number of 0's: 2657\n"
          ]
        }
      ]
    },
    {
      "source": [
        "imputer = SimpleImputer(strategy='mean')\n",
        "X_train = imputer.fit_transform(X_train)\n",
        "X_test = imputer.transform(X_test)\n",
        "\n",
        "scaler = StandardScaler()\n",
        "X_train = scaler.fit_transform(X_train)\n",
        "X_test = scaler.transform(X_test)"
      ],
      "cell_type": "code",
      "metadata": {
        "id": "b63RWa3WfclP"
      },
      "execution_count": 7,
      "outputs": []
    },
    {
      "cell_type": "code",
      "source": [
        "import pandas as pd\n",
        "import numpy as np\n",
        "from sklearn.model_selection import train_test_split\n",
        "from sklearn.ensemble import RandomForestClassifier\n",
        "from sklearn.metrics import confusion_matrix, classification_report\n",
        "import matplotlib.pyplot as plt\n",
        "import seaborn as sns\n",
        "\n",
        "# Step 1: Load your datasets (assuming you have already done this)\n",
        "# demo = pd.read_sas('demo.XPT', format='xport', encoding='utf-8')\n",
        "# glu = pd.read_sas('glu.XPT', format='xport', encoding='utf-8')\n",
        "\n",
        "# Step 2: Prepare your data (this is just a placeholder, replace with your actual data preparation)\n",
        "# merged_data = pd.merge(demo, glu[['SEQN', 'LBXGLU']], on='SEQN', how='inner')\n",
        "# merged_data['diabetes_status'] = merged_data['LBXGLU'].apply(lambda x: 1 if x >= 115 else 0)\n",
        "# X = ...  # Your feature set\n",
        "# y = ...  # Your target variable\n",
        "\n",
        "# Step 3: Split the data into training and testing sets (80:20 split)\n",
        "# X_train, X_test, y_train, y_test = train_test_split(X, y, test_size=0.2, random_state=42)\n",
        "\n",
        "# Step 4: Train the Random Forest model\n",
        "rf_model = RandomForestClassifier(random_state=42, class_weight='balanced')\n",
        "rf_model.fit(X_train, y_train)\n",
        "\n",
        "# Step 5: Make predictions\n",
        "y_pred_rf = rf_model.predict(X_test)\n",
        "\n",
        "# Step 6: Calculate confusion matrix\n",
        "conf_matrix = confusion_matrix(y_test, y_pred_rf)\n",
        "\n",
        "# Step 7: Plotting the confusion matrix\n",
        "plt.figure(figsize=(8, 6))\n",
        "sns.heatmap(conf_matrix, annot=True, fmt=\"d\", cmap=\"Blues\",\n",
        "            xticklabels=['Class 0', 'Class 1'],\n",
        "            yticklabels=['Class 0', 'Class 1'])\n",
        "plt.title('Confusion Matrix - Random Forest')\n",
        "plt.xlabel('Predicted Labels')\n",
        "plt.ylabel('True Labels')\n",
        "plt.show()\n",
        "\n",
        "# Step 8: Print classification report\n",
        "print(\"Classification Report:\")\n",
        "print(classification_report(y_test, y_pred_rf))"
      ],
      "metadata": {
        "colab": {
          "base_uri": "https://localhost:8080/",
          "height": 738
        },
        "id": "43elI9CnXRTT",
        "outputId": "5feaf074-a8dc-4082-8090-aa289ca1f1ce"
      },
      "execution_count": 8,
      "outputs": [
        {
          "output_type": "display_data",
          "data": {
            "text/plain": [
              "<Figure size 800x600 with 2 Axes>"
            ],
            "image/png": "[encoded data removed]"
          },
          "metadata": {}
        },
        {
          "output_type": "stream",
          "name": "stdout",
          "text": [
            "Classification Report:\n",
            "              precision    recall  f1-score   support\n",
            "\n",
            "           0       0.98      1.00      0.99       659\n",
            "           1       1.00      0.90      0.95       141\n",
            "\n",
            "    accuracy                           0.98       800\n",
            "   macro avg       0.99      0.95      0.97       800\n",
            "weighted avg       0.98      0.98      0.98       800\n",
            "\n"
          ]
        }
      ]
    },
    {
      "cell_type": "markdown",
      "source": [
        "Without Recursive Feature Elimination"
      ],
      "metadata": {
        "id": "fIeEO-Au-jA2"
      }
    },
    {
      "cell_type": "code",
      "source": [
        "# Step 1: Set a new threshold\n",
        "threshold = 0.3  # Example threshold\n",
        "\n",
        "# Step 2: Make predictions based on the new threshold\n",
        "y_pred_adjusted = (y_pred_proba >= threshold).astype(int)\n",
        "\n",
        "# Step 3: Calculate metrics again\n",
        "accuracy_adjusted = accuracy_score(y_test, y_pred_adjusted)\n",
        "precision_adjusted = precision_score(y_test, y_pred_adjusted)\n",
        "sensitivity_adjusted = recall_score(y_test, y_pred_adjusted)\n",
        "tn, fp, fn, tp = confusion_matrix(y_test, y_pred_adjusted).ravel()\n",
        "specificity_adjusted = tn / (tn + fp)\n",
        "geometric_mean_adjusted = np.sqrt(sensitivity_adjusted * specificity_adjusted)\n",
        "auc_adjusted = roc_auc_score(y_test, y_pred_proba)\n",
        "mer_adjusted = 1 - accuracy_adjusted\n",
        "mwc_adjusted = (fp + fn) / len(y_test)\n",
        "\n",
        "# Step 4: Create a DataFrame to display the adjusted metrics\n",
        "adjusted_metrics = {\n",
        "    \"Metric\": [\n",
        "        \"Accuracy\",\n",
        "        \"Precision\",\n",
        "        \"Sensitivity (Recall)\",\n",
        "        \"Specificity\",\n",
        "        \"G.I. (Geometric Mean)\",\n",
        "        \"AUC\",\n",
        "        \"AUCH\",\n",
        "        \"MER (Mean Error Rate)\",\n",
        "        \"MWC (Mean Weighted Cost)\"\n",
        "    ],\n",
        "    \"Value\": [\n",
        "        accuracy_adjusted,\n",
        "        precision_adjusted,\n",
        "        sensitivity_adjusted,\n",
        "        specificity_adjusted,\n",
        "        geometric_mean_adjusted,\n",
        "        auc_adjusted,\n",
        "        auc_adjusted,  # AUCH is the same as AUC in this context\n",
        "        mer_adjusted,\n",
        "        mwc_adjusted\n",
        "    ]\n",
        "}\n",
        "\n",
        "adjusted_metrics_df = pd.DataFrame(adjusted_metrics)\n",
        "\n",
        "# Step 5: Display the adjusted metrics table\n",
        "print(adjusted_metrics_df)"
      ],
      "metadata": {
        "colab": {
          "base_uri": "https://localhost:8080/"
        },
        "id": "f1Bpv5GiYhcL",
        "outputId": "c0eb4024-2608-4dd5-c1c8-1bab46535738"
      },
      "execution_count": 13,
      "outputs": [
        {
          "output_type": "stream",
          "name": "stdout",
          "text": [
            "                     Metric  Value\n",
            "0                  Accuracy    1.0\n",
            "1                 Precision    1.0\n",
            "2      Sensitivity (Recall)    1.0\n",
            "3               Specificity    1.0\n",
            "4     G.I. (Geometric Mean)    1.0\n",
            "5                       AUC    1.0\n",
            "6                      AUCH    1.0\n",
            "7     MER (Mean Error Rate)    0.0\n",
            "8  MWC (Mean Weighted Cost)    0.0\n"
          ]
        }
      ]
    },
    {
      "cell_type": "code",
      "source": [
        "import pandas as pd\n",
        "import numpy as np\n",
        "import matplotlib.pyplot as plt\n",
        "import seaborn as sns\n",
        "from sklearn.model_selection import train_test_split\n",
        "from sklearn.ensemble import RandomForestClassifier\n",
        "from sklearn.feature_selection import RFE\n",
        "from sklearn.linear_model import LogisticRegression\n",
        "from sklearn.metrics import confusion_matrix, classification_report\n",
        "from sklearn.impute import SimpleImputer\n",
        "\n",
        "# Assuming merged_data is your DataFrame and has been preprocessed\n",
        "# Replace this with your actual data loading code\n",
        "# merged_data = pd.read_csv('your_data.csv')  # Example of loading data\n",
        "\n",
        "# Prepare features and target\n",
        "X = merged_data.drop(columns=['SEQN', 'diabetes_status', 'LBXGLU'], errors='ignore')\n",
        "y = merged_data['diabetes_status']\n",
        "\n",
        "# Step 1: Drop columns with all missing values\n",
        "X = X.dropna(axis=1, how='all')\n",
        "\n",
        "# Step 2: Handle missing values\n",
        "imputer = SimpleImputer(strategy='mean')  # You can choose a different strategy if needed\n",
        "X_imputed = imputer.fit_transform(X)\n",
        "\n",
        "# Convert back to DataFrame\n",
        "X_imputed = pd.DataFrame(X_imputed, columns=X.columns)\n",
        "\n",
        "# Step 3: Split the data into training and testing sets\n",
        "X_train, X_test, y_train, y_test = train_test_split(X_imputed, y, test_size=0.2, random_state=42)\n",
        "\n",
        "# Step 4: Train the model without RFE\n",
        "model_without_rfe = RandomForestClassifier(random_state=42)\n",
        "model_without_rfe.fit(X_train, y_train)\n",
        "\n",
        "# Step 5: Make predictions without RFE\n",
        "y_pred_without_rfe = model_without_rfe.predict(X_test)\n",
        "\n",
        "# Step 6: Calculate confusion matrix without RFE\n",
        "conf_matrix_without_rfe = confusion_matrix(y_test, y_pred_without_rfe)\n",
        "\n",
        "# Step 7: Train the model with RFE\n",
        "# Initialize RFE with the model and specify the number of features to select\n",
        "selector = RFE(estimator=LogisticRegression(max_iter=20000, solver='liblinear', random_state=42), n_features_to_select=10)\n",
        "selector.fit(X_train, y_train)\n",
        "\n",
        "# Get the selected features\n",
        "selected_features = X_train.columns[selector.support_]\n",
        "X_train_selected = X_train[selected_features]\n",
        "X_test_selected = X_test[selected_features]\n",
        "\n",
        "# Train the model with selected features\n",
        "model_with_rfe = RandomForestClassifier(random_state=42)\n",
        "model_with_rfe.fit(X_train_selected, y_train)\n",
        "\n",
        "# Step 8: Make predictions with RFE\n",
        "y_pred_with_rfe = model_with_rfe.predict(X_test_selected)\n",
        "\n",
        "# Step 9: Calculate confusion matrix with RFE\n",
        "conf_matrix_with_rfe = confusion_matrix(y_test, y_pred_with_rfe)\n",
        "\n",
        "# Visualization of Confusion Matrices\n",
        "def plot_confusion_matrix(cm, title):\n",
        "    plt.figure(figsize=(8, 6))\n",
        "    sns.heatmap(cm, annot=True, fmt='d', cmap='Blues',\n",
        "                xticklabels=['Class 0', 'Class 1'],\n",
        "                yticklabels=['Class 0', 'Class 1'])\n",
        "    plt.title(title)\n",
        "    plt.xlabel('Predicted Labels')\n",
        "    plt.ylabel('True Labels')\n",
        "    plt.show()\n",
        "\n",
        "# Plot confusion matrices\n",
        "plot_confusion_matrix(conf_matrix_without_rfe, \"Confusion Matrix Without RFE\")\n",
        "plot_confusion_matrix(conf_matrix_with_rfe, \"Confusion Matrix With RFE\")\n",
        "\n",
        "# Optional: Display classification reports for both models\n",
        "print(\"Classification Report Without RFE:\")\n",
        "print(classification_report(y_test, y_pred_without_rfe))\n",
        "\n",
        "print(\"Classification Report With RFE:\")\n",
        "print(classification_report(y_test, y_pred_with_rfe))"
      ],
      "metadata": {
        "colab": {
          "base_uri": "https://localhost:8080/",
          "height": 1000
        },
        "id": "O-nFOpbBk0X4",
        "outputId": "df3d1896-f6aa-491b-afae-6e6930f30e7c"
      },
      "execution_count": null,
      "outputs": [
        {
          "output_type": "display_data",
          "data": {
            "text/plain": [
              "<Figure size 800x600 with 2 Axes>"
            ],
            "image/png": "[encoded data removed]"
          },
          "metadata": {}
        },
        {
          "output_type": "display_data",
          "data": {
            "text/plain": [
              "<Figure size 800x600 with 2 Axes>"
            ],
            "image/png": "[encoded data removed]"
          },
          "metadata": {}
        },
        {
          "output_type": "stream",
          "name": "stdout",
          "text": [
            "Classification Report Without RFE:\n",
            "              precision    recall  f1-score   support\n",
            "\n",
            "           0       0.82      1.00      0.90       659\n",
            "           1       0.00      0.00      0.00       141\n",
            "\n",
            "    accuracy                           0.82       800\n",
            "   macro avg       0.41      0.50      0.45       800\n",
            "weighted avg       0.68      0.82      0.74       800\n",
            "\n",
            "Classification Report With RFE:\n",
            "              precision    recall  f1-score   support\n",
            "\n",
            "           0       0.83      0.90      0.86       659\n",
            "           1       0.19      0.11      0.14       141\n",
            "\n",
            "    accuracy                           0.76       800\n",
            "   macro avg       0.51      0.51      0.50       800\n",
            "weighted avg       0.71      0.76      0.73       800\n",
            "\n"
          ]
        },
        {
          "output_type": "stream",
          "name": "stderr",
          "text": [
            "/usr/local/lib/python3.10/dist-packages/sklearn/metrics/_classification.py:1531: UndefinedMetricWarning: Precision is ill-defined and being set to 0.0 in labels with no predicted samples. Use `zero_division` parameter to control this behavior.\n",
            "  _warn_prf(average, modifier, f\"{metric.capitalize()} is\", len(result))\n",
            "/usr/local/lib/python3.10/dist-packages/sklearn/metrics/_classification.py:1531: UndefinedMetricWarning: Precision is ill-defined and being set to 0.0 in labels with no predicted samples. Use `zero_division` parameter to control this behavior.\n",
            "  _warn_prf(average, modifier, f\"{metric.capitalize()} is\", len(result))\n",
            "/usr/local/lib/python3.10/dist-packages/sklearn/metrics/_classification.py:1531: UndefinedMetricWarning: Precision is ill-defined and being set to 0.0 in labels with no predicted samples. Use `zero_division` parameter to control this behavior.\n",
            "  _warn_prf(average, modifier, f\"{metric.capitalize()} is\", len(result))\n"
          ]
        }
      ]
    },
    {
      "cell_type": "code",
      "source": [
        "from google.colab import drive\n",
        "\n",
        "# Mount Google Drive\n",
        "drive.mount('/content/drive')\n"
      ],
      "metadata": {
        "colab": {
          "base_uri": "https://localhost:8080/"
        },
        "id": "XZGNjODAtSXj",
        "outputId": "d9f427ad-253e-42bb-ca57-4b29ed05758b"
      },
      "execution_count": 1,
      "outputs": [
        {
          "output_type": "stream",
          "name": "stdout",
          "text": [
            "Drive already mounted at /content/drive; to attempt to forcibly remount, call drive.mount(\"/content/drive\", force_remount=True).\n"
          ]
        }
      ]
    },
    {
      "source": [
        "import joblib\n",
        "\n",
        "# Define the path to save the model in Google Drive\n",
        "model_filename = '/content/drive/MyDrive/Random Forest/model.pkl'\n",
        "\n",
        "# Assuming 'rf_model' is the trained model you want to save\n",
        "# Replace 'rf_model' with the correct variable name if different\n",
        "model = rf_model  # Assign the trained model to the variable 'model'\n",
        "\n",
        "# Save the model to Google Drive\n",
        "joblib.dump(model, model_filename)\n",
        "\n",
        "print(f\"Model saved to {model_filename}\")"
      ],
      "cell_type": "code",
      "metadata": {
        "colab": {
          "base_uri": "https://localhost:8080/"
        },
        "id": "jQ3pSQvZGAQe",
        "outputId": "a028851b-c910-4a9f-cd73-17b4777556e5"
      },
      "execution_count": null,
      "outputs": [
        {
          "output_type": "stream",
          "name": "stdout",
          "text": [
            "Model saved to /content/drive/MyDrive/Random Forest/model.pkl\n"
          ]
        }
      ]
    },
    {
      "cell_type": "markdown",
      "source": [
        "With Recursive Feature Elimination"
      ],
      "metadata": {
        "id": "Yc0FAChr-deG"
      }
    },
    {
      "cell_type": "code",
      "source": [
        "from sklearn.ensemble import RandomForestClassifier\n",
        "from sklearn.preprocessing import StandardScaler\n",
        "from sklearn.metrics import accuracy_score, precision_score, recall_score, confusion_matrix, roc_auc_score\n",
        "import numpy as np\n",
        "import pandas as pd\n",
        "\n",
        "# Assuming you already have your raw data (X_train, X_test, y_train, y_test)\n",
        "\n",
        "# Step 1: Scale the features\n",
        "scaler = StandardScaler()\n",
        "\n",
        "# Fit the scaler on the training data and transform both train and test sets\n",
        "X_train_scaled = scaler.fit_transform(X_train)\n",
        "X_test_scaled = scaler.transform(X_test)  # Apply the same transformation to the test set\n",
        "\n",
        "# Step 2: Train the Random Forest model\n",
        "rf_model_no_rfe = RandomForestClassifier()\n",
        "\n",
        "# Fit the model on the training data\n",
        "rf_model_no_rfe.fit(X_train_scaled, y_train)\n",
        "\n",
        "# Step 3: Set a new threshold for prediction\n",
        "threshold = 0.3  # Example threshold\n",
        "\n",
        "# Step 4: Make predictions using the model's predicted probabilities (without RFE)\n",
        "y_pred_proba_no_rfe = rf_model_no_rfe.predict_proba(X_test_scaled)[:, 1]  # Probability for class 1\n",
        "\n",
        "# Step 5: Make adjusted predictions using the new threshold\n",
        "y_pred_adjusted_no_rfe = (y_pred_proba_no_rfe >= threshold).astype(int)\n",
        "\n",
        "# Step 6: Calculate metrics based on adjusted predictions\n",
        "accuracy_adjusted_no_rfe = accuracy_score(y_test, y_pred_adjusted_no_rfe)\n",
        "precision_adjusted_no_rfe = precision_score(y_test, y_pred_adjusted_no_rfe)\n",
        "sensitivity_adjusted_no_rfe = recall_score(y_test, y_pred_adjusted_no_rfe)\n",
        "tn, fp, fn, tp = confusion_matrix(y_test, y_pred_adjusted_no_rfe).ravel()\n",
        "specificity_adjusted_no_rfe = tn / (tn + fp)\n",
        "geometric_mean_adjusted_no_rfe = np.sqrt(sensitivity_adjusted_no_rfe * specificity_adjusted_no_rfe)\n",
        "auc_adjusted_no_rfe = roc_auc_score(y_test, y_pred_proba_no_rfe)\n",
        "mer_adjusted_no_rfe = 1 - accuracy_adjusted_no_rfe\n",
        "mwc_adjusted_no_rfe = (fp + fn) / len(y_test)\n",
        "\n",
        "# Step 7: Create a DataFrame to display the adjusted metrics for the model\n",
        "adjusted_metrics_no_rfe = {\n",
        "    \"Metric\": [\n",
        "        \"Accuracy\",\n",
        "        \"Precision\",\n",
        "        \"Sensitivity (Recall)\",\n",
        "        \"Specificity\",\n",
        "        \"G.I. (Geometric Mean)\",\n",
        "        \"AUC\",\n",
        "        \"AUCH\",\n",
        "        \"MER (Mean Error Rate)\",\n",
        "        \"MWC (Mean Weighted Cost)\"\n",
        "    ],\n",
        "    \"Value\": [\n",
        "        accuracy_adjusted_no_rfe,\n",
        "        precision_adjusted_no_rfe,\n",
        "        sensitivity_adjusted_no_rfe,\n",
        "        specificity_adjusted_no_rfe,\n",
        "        geometric_mean_adjusted_no_rfe,\n",
        "        auc_adjusted_no_rfe,\n",
        "        auc_adjusted_no_rfe,  # AUCH is the same as AUC in this context\n",
        "        mer_adjusted_no_rfe,\n",
        "        mwc_adjusted_no_rfe\n",
        "    ]\n",
        "}\n",
        "\n",
        "adjusted_metrics_no_rfe_df = pd.DataFrame(adjusted_metrics_no_rfe)\n",
        "\n",
        "# Step 8: Display the adjusted metrics table\n",
        "print(adjusted_metrics_no_rfe_df)\n"
      ],
      "metadata": {
        "colab": {
          "base_uri": "https://localhost:8080/"
        },
        "id": "GJci94tp27aT",
        "outputId": "b3a38a2b-b56d-4c14-e694-96fcc9f45798"
      },
      "execution_count": null,
      "outputs": [
        {
          "output_type": "stream",
          "name": "stdout",
          "text": [
            "                     Metric     Value\n",
            "0                  Accuracy  0.788750\n",
            "1                 Precision  0.240741\n",
            "2      Sensitivity (Recall)  0.092199\n",
            "3               Specificity  0.937785\n",
            "4     G.I. (Geometric Mean)  0.294045\n",
            "5                       AUC  0.594975\n",
            "6                      AUCH  0.594975\n",
            "7     MER (Mean Error Rate)  0.211250\n",
            "8  MWC (Mean Weighted Cost)  0.211250\n"
          ]
        }
      ]
    },
    {
      "cell_type": "code",
      "source": [
        "from sklearn.ensemble import RandomForestClassifier\n",
        "from sklearn.metrics import roc_curve, auc\n",
        "import matplotlib.pyplot as plt\n",
        "from sklearn.model_selection import train_test_split\n",
        "from sklearn.preprocessing import StandardScaler\n",
        "\n",
        "# Assuming you have already preprocessed data: X_train, X_test, y_train, y_test\n",
        "# Scaling the features (if needed)\n",
        "scaler = StandardScaler()\n",
        "X_train_scaled = scaler.fit_transform(X_train)\n",
        "X_test_scaled = scaler.transform(X_test)\n",
        "\n",
        "# Step 1: Train the Random Forest model\n",
        "rf_model = RandomForestClassifier(random_state=42)\n",
        "rf_model.fit(X_train_scaled, y_train)\n",
        "\n",
        "# Step 2: Get predicted probabilities for the positive class (class 1)\n",
        "y_pred_proba = rf_model.predict_proba(X_test_scaled)[:, 1]  # Probabilities for class 1\n",
        "\n",
        "# Step 3: Compute the ROC curve\n",
        "fpr, tpr, thresholds = roc_curve(y_test, y_pred_proba)\n",
        "\n",
        "# Step 4: Compute the AUC (Area Under the Curve)\n",
        "roc_auc = auc(fpr, tpr)\n",
        "\n",
        "# Step 5: Plot the ROC curve\n",
        "plt.figure(figsize=(8, 6))\n",
        "plt.plot(fpr, tpr, color='darkorange', lw=2, label=f'ROC curve (AUC = {roc_auc:.2f})')\n",
        "plt.plot([0, 1], [0, 1], color='navy', lw=2, linestyle='--')  # Random classifier line\n",
        "plt.xlim([0.0, 1.0])\n",
        "plt.ylim([0.0, 1.05])\n",
        "plt.xlabel('False Positive Rate (FPR)')\n",
        "plt.ylabel('True Positive Rate (TPR)')\n",
        "plt.title('Receiver Operating Characteristic (ROC) Curve - Random Forest')\n",
        "plt.legend(loc='lower right')\n",
        "plt.show()\n"
      ],
      "metadata": {
        "colab": {
          "base_uri": "https://localhost:8080/",
          "height": 564
        },
        "id": "ikmBbg39AWVP",
        "outputId": "783cfb92-4a91-4599-c151-df98539582ce"
      },
      "execution_count": null,
      "outputs": [
        {
          "output_type": "display_data",
          "data": {
            "text/plain": [
              "<Figure size 800x600 with 1 Axes>"
            ],
            "image/png": "[encoded data removed]"
          },
          "metadata": {}
        }
      ]
    },
    {
      "cell_type": "code",
      "source": [
        "!pip install gradio"
      ],
      "metadata": {
        "colab": {
          "base_uri": "https://localhost:8080/"
        },
        "id": "4Rs4kJZtGWh-",
        "outputId": "e49e8810-36b4-4819-adbb-5cc670ef78bb"
      },
      "execution_count": null,
      "outputs": [
        {
          "output_type": "stream",
          "name": "stdout",
          "text": [
            "Collecting gradio\n",
            "  Downloading gradio-5.8.0-py3-none-any.whl.metadata (16 kB)\n",
            "Collecting aiofiles<24.0,>=22.0 (from gradio)\n",
            "  Downloading aiofiles-23.2.1-py3-none-any.whl.metadata (9.7 kB)\n",
            "Requirement already satisfied: anyio<5.0,>=3.0 in /usr/local/lib/python3.10/dist-packages (from gradio) (3.7.1)\n",
            "Collecting fastapi<1.0,>=0.115.2 (from gradio)\n",
            "  Downloading fastapi-0.115.6-py3-none-any.whl.metadata (27 kB)\n",
            "Collecting ffmpy (from gradio)\n",
            "  Downloading ffmpy-0.4.0-py3-none-any.whl.metadata (2.9 kB)\n",
            "Collecting gradio-client==1.5.1 (from gradio)\n",
            "  Downloading gradio_client-1.5.1-py3-none-any.whl.metadata (7.1 kB)\n",
            "Requirement already satisfied: httpx>=0.24.1 in /usr/local/lib/python3.10/dist-packages (from gradio) (0.28.0)\n",
            "Requirement already satisfied: huggingface-hub>=0.25.1 in /usr/local/lib/python3.10/dist-packages (from gradio) (0.26.3)\n",
            "Requirement already satisfied: jinja2<4.0 in /usr/local/lib/python3.10/dist-packages (from gradio) (3.1.4)\n",
            "Collecting markupsafe~=2.0 (from gradio)\n",
            "  Downloading MarkupSafe-2.1.5-cp310-cp310-manylinux_2_17_x86_64.manylinux2014_x86_64.whl.metadata (3.0 kB)\n",
            "Requirement already satisfied: numpy<3.0,>=1.0 in /usr/local/lib/python3.10/dist-packages (from gradio) (1.26.4)\n",
            "Requirement already satisfied: orjson~=3.0 in /usr/local/lib/python3.10/dist-packages (from gradio) (3.10.12)\n",
            "Requirement already satisfied: packaging in /usr/local/lib/python3.10/dist-packages (from gradio) (24.2)\n",
            "Requirement already satisfied: pandas<3.0,>=1.0 in /usr/local/lib/python3.10/dist-packages (from gradio) (2.2.2)\n",
            "Requirement already satisfied: pillow<12.0,>=8.0 in /usr/local/lib/python3.10/dist-packages (from gradio) (11.0.0)\n",
            "Requirement already satisfied: pydantic>=2.0 in /usr/local/lib/python3.10/dist-packages (from gradio) (2.10.3)\n",
            "Collecting pydub (from gradio)\n",
            "  Downloading pydub-0.25.1-py2.py3-none-any.whl.metadata (1.4 kB)\n",
            "Collecting python-multipart>=0.0.18 (from gradio)\n",
            "  Downloading python_multipart-0.0.19-py3-none-any.whl.metadata (1.8 kB)\n",
            "Requirement already satisfied: pyyaml<7.0,>=5.0 in /usr/local/lib/python3.10/dist-packages (from gradio) (6.0.2)\n",
            "Collecting ruff>=0.2.2 (from gradio)\n",
            "  Downloading ruff-0.8.2-py3-none-manylinux_2_17_x86_64.manylinux2014_x86_64.whl.metadata (25 kB)\n",
            "Collecting safehttpx<0.2.0,>=0.1.6 (from gradio)\n",
            "  Downloading safehttpx-0.1.6-py3-none-any.whl.metadata (4.2 kB)\n",
            "Collecting semantic-version~=2.0 (from gradio)\n",
            "  Downloading semantic_version-2.10.0-py2.py3-none-any.whl.metadata (9.7 kB)\n",
            "Collecting starlette<1.0,>=0.40.0 (from gradio)\n",
            "  Downloading starlette-0.41.3-py3-none-any.whl.metadata (6.0 kB)\n",
            "Collecting tomlkit<0.14.0,>=0.12.0 (from gradio)\n",
            "  Downloading tomlkit-0.13.2-py3-none-any.whl.metadata (2.7 kB)\n",
            "Requirement already satisfied: typer<1.0,>=0.12 in /usr/local/lib/python3.10/dist-packages (from gradio) (0.15.0)\n",
            "Requirement already satisfied: typing-extensions~=4.0 in /usr/local/lib/python3.10/dist-packages (from gradio) (4.12.2)\n",
            "Collecting uvicorn>=0.14.0 (from gradio)\n",
            "  Downloading uvicorn-0.32.1-py3-none-any.whl.metadata (6.6 kB)\n",
            "Requirement already satisfied: fsspec in /usr/local/lib/python3.10/dist-packages (from gradio-client==1.5.1->gradio) (2024.10.0)\n",
            "Collecting websockets<15.0,>=10.0 (from gradio-client==1.5.1->gradio)\n",
            "  Downloading websockets-14.1-cp310-cp310-manylinux_2_5_x86_64.manylinux1_x86_64.manylinux_2_17_x86_64.manylinux2014_x86_64.whl.metadata (6.7 kB)\n",
            "Requirement already satisfied: idna>=2.8 in /usr/local/lib/python3.10/dist-packages (from anyio<5.0,>=3.0->gradio) (3.10)\n",
            "Requirement already satisfied: sniffio>=1.1 in /usr/local/lib/python3.10/dist-packages (from anyio<5.0,>=3.0->gradio) (1.3.1)\n",
            "Requirement already satisfied: exceptiongroup in /usr/local/lib/python3.10/dist-packages (from anyio<5.0,>=3.0->gradio) (1.2.2)\n",
            "Requirement already satisfied: certifi in /usr/local/lib/python3.10/dist-packages (from httpx>=0.24.1->gradio) (2024.8.30)\n",
            "Requirement already satisfied: httpcore==1.* in /usr/local/lib/python3.10/dist-packages (from httpx>=0.24.1->gradio) (1.0.7)\n",
            "Requirement already satisfied: h11<0.15,>=0.13 in /usr/local/lib/python3.10/dist-packages (from httpcore==1.*->httpx>=0.24.1->gradio) (0.14.0)\n",
            "Requirement already satisfied: filelock in /usr/local/lib/python3.10/dist-packages (from huggingface-hub>=0.25.1->gradio) (3.16.1)\n",
            "Requirement already satisfied: requests in /usr/local/lib/python3.10/dist-packages (from huggingface-hub>=0.25.1->gradio) (2.32.3)\n",
            "Requirement already satisfied: tqdm>=4.42.1 in /usr/local/lib/python3.10/dist-packages (from huggingface-hub>=0.25.1->gradio) (4.66.6)\n",
            "Requirement already satisfied: python-dateutil>=2.8.2 in /usr/local/lib/python3.10/dist-packages (from pandas<3.0,>=1.0->gradio) (2.8.2)\n",
            "Requirement already satisfied: pytz>=2020.1 in /usr/local/lib/python3.10/dist-packages (from pandas<3.0,>=1.0->gradio) (2024.2)\n",
            "Requirement already satisfied: tzdata>=2022.7 in /usr/local/lib/python3.10/dist-packages (from pandas<3.0,>=1.0->gradio) (2024.2)\n",
            "Requirement already satisfied: annotated-types>=0.6.0 in /usr/local/lib/python3.10/dist-packages (from pydantic>=2.0->gradio) (0.7.0)\n",
            "Requirement already satisfied: pydantic-core==2.27.1 in /usr/local/lib/python3.10/dist-packages (from pydantic>=2.0->gradio) (2.27.1)\n",
            "Requirement already satisfied: click>=8.0.0 in /usr/local/lib/python3.10/dist-packages (from typer<1.0,>=0.12->gradio) (8.1.7)\n",
            "Requirement already satisfied: shellingham>=1.3.0 in /usr/local/lib/python3.10/dist-packages (from typer<1.0,>=0.12->gradio) (1.5.4)\n",
            "Requirement already satisfied: rich>=10.11.0 in /usr/local/lib/python3.10/dist-packages (from typer<1.0,>=0.12->gradio) (13.9.4)\n",
            "Requirement already satisfied: six>=1.5 in /usr/local/lib/python3.10/dist-packages (from python-dateutil>=2.8.2->pandas<3.0,>=1.0->gradio) (1.16.0)\n",
            "Requirement already satisfied: markdown-it-py>=2.2.0 in /usr/local/lib/python3.10/dist-packages (from rich>=10.11.0->typer<1.0,>=0.12->gradio) (3.0.0)\n",
            "Requirement already satisfied: pygments<3.0.0,>=2.13.0 in /usr/local/lib/python3.10/dist-packages (from rich>=10.11.0->typer<1.0,>=0.12->gradio) (2.18.0)\n",
            "Requirement already satisfied: charset-normalizer<4,>=2 in /usr/local/lib/python3.10/dist-packages (from requests->huggingface-hub>=0.25.1->gradio) (3.4.0)\n",
            "Requirement already satisfied: urllib3<3,>=1.21.1 in /usr/local/lib/python3.10/dist-packages (from requests->huggingface-hub>=0.25.1->gradio) (2.2.3)\n",
            "Requirement already satisfied: mdurl~=0.1 in /usr/local/lib/python3.10/dist-packages (from markdown-it-py>=2.2.0->rich>=10.11.0->typer<1.0,>=0.12->gradio) (0.1.2)\n",
            "Downloading gradio-5.8.0-py3-none-any.whl (57.2 MB)\n",
            "\u001b[2K   \u001b[90m━━━━━━━━━━━━━━━━━━━━━━━━━━━━━━━━━━━━━━━━\u001b[0m \u001b[32m57.2/57.2 MB\u001b[0m \u001b[31m12.3 MB/s\u001b[0m eta \u001b[36m0:00:00\u001b[0m\n",
            "\u001b[?25hDownloading gradio_client-1.5.1-py3-none-any.whl (320 kB)\n",
            "\u001b[2K   \u001b[90m━━━━━━━━━━━━━━━━━━━━━━━━━━━━━━━━━━━━━━━━\u001b[0m \u001b[32m320.2/320.2 kB\u001b[0m \u001b[31m23.4 MB/s\u001b[0m eta \u001b[36m0:00:00\u001b[0m\n",
            "\u001b[?25hDownloading aiofiles-23.2.1-py3-none-any.whl (15 kB)\n",
            "Downloading fastapi-0.115.6-py3-none-any.whl (94 kB)\n",
            "\u001b[2K   \u001b[90m━━━━━━━━━━━━━━━━━━━━━━━━━━━━━━━━━━━━━━━━\u001b[0m \u001b[32m94.8/94.8 kB\u001b[0m \u001b[31m9.8 MB/s\u001b[0m eta \u001b[36m0:00:00\u001b[0m\n",
            "\u001b[?25hDownloading MarkupSafe-2.1.5-cp310-cp310-manylinux_2_17_x86_64.manylinux2014_x86_64.whl (25 kB)\n",
            "Downloading python_multipart-0.0.19-py3-none-any.whl (24 kB)\n",
            "Downloading ruff-0.8.2-py3-none-manylinux_2_17_x86_64.manylinux2014_x86_64.whl (11.2 MB)\n",
            "\u001b[2K   \u001b[90m━━━━━━━━━━━━━━━━━━━━━━━━━━━━━━━━━━━━━━━━\u001b[0m \u001b[32m11.2/11.2 MB\u001b[0m \u001b[31m79.4 MB/s\u001b[0m eta \u001b[36m0:00:00\u001b[0m\n",
            "\u001b[?25hDownloading safehttpx-0.1.6-py3-none-any.whl (8.7 kB)\n",
            "Downloading semantic_version-2.10.0-py2.py3-none-any.whl (15 kB)\n",
            "Downloading starlette-0.41.3-py3-none-any.whl (73 kB)\n",
            "\u001b[2K   \u001b[90m━━━━━━━━━━━━━━━━━━━━━━━━━━━━━━━━━━━━━━━━\u001b[0m \u001b[32m73.2/73.2 kB\u001b[0m \u001b[31m5.9 MB/s\u001b[0m eta \u001b[36m0:00:00\u001b[0m\n",
            "\u001b[?25hDownloading tomlkit-0.13.2-py3-none-any.whl (37 kB)\n",
            "Downloading uvicorn-0.32.1-py3-none-any.whl (63 kB)\n",
            "\u001b[2K   \u001b[90m━━━━━━━━━━━━━━━━━━━━━━━━━━━━━━━━━━━━━━━━\u001b[0m \u001b[32m63.8/63.8 kB\u001b[0m \u001b[31m6.7 MB/s\u001b[0m eta \u001b[36m0:00:00\u001b[0m\n",
            "\u001b[?25hDownloading ffmpy-0.4.0-py3-none-any.whl (5.8 kB)\n",
            "Downloading pydub-0.25.1-py2.py3-none-any.whl (32 kB)\n",
            "Downloading websockets-14.1-cp310-cp310-manylinux_2_5_x86_64.manylinux1_x86_64.manylinux_2_17_x86_64.manylinux2014_x86_64.whl (168 kB)\n",
            "\u001b[2K   \u001b[90m━━━━━━━━━━━━━━━━━━━━━━━━━━━━━━━━━━━━━━━━\u001b[0m \u001b[32m168.2/168.2 kB\u001b[0m \u001b[31m15.6 MB/s\u001b[0m eta \u001b[36m0:00:00\u001b[0m\n",
            "\u001b[?25hInstalling collected packages: pydub, websockets, uvicorn, tomlkit, semantic-version, ruff, python-multipart, markupsafe, ffmpy, aiofiles, starlette, safehttpx, gradio-client, fastapi, gradio\n",
            "  Attempting uninstall: markupsafe\n",
            "    Found existing installation: MarkupSafe 3.0.2\n",
            "    Uninstalling MarkupSafe-3.0.2:\n",
            "      Successfully uninstalled MarkupSafe-3.0.2\n",
            "Successfully installed aiofiles-23.2.1 fastapi-0.115.6 ffmpy-0.4.0 gradio-5.8.0 gradio-client-1.5.1 markupsafe-2.1.5 pydub-0.25.1 python-multipart-0.0.19 ruff-0.8.2 safehttpx-0.1.6 semantic-version-2.10.0 starlette-0.41.3 tomlkit-0.13.2 uvicorn-0.32.1 websockets-14.1\n"
          ]
        }
      ]
    },
    {
      "cell_type": "code",
      "source": [
        "import pandas as pd\n",
        "import joblib\n",
        "import gradio as gr\n",
        "\n",
        "# Load the best model\n",
        "model_file_map = {\n",
        "\n",
        "    \"Random Forest\": \"model.pkl\",\n",
        "\n",
        "}\n",
        "\n",
        "# Specify the desired model here\n",
        "best_model_filename = model_file_map['Random Forest']\n",
        "best_model = joblib.load(f\"/content/drive/MyDrive/Random Forest/model.pkl\")\n",
        "\n",
        "# Preprocessing function\n",
        "def preprocess(data):\n",
        "    \"\"\"\n",
        "    Preprocess the input data to match the model's training requirements.\n",
        "    Modify based on your dataset and model needs.\n",
        "    \"\"\"\n",
        "    # Handle missing values\n",
        "    data = data.fillna(0)  # Replace missing values with 0 (adjust as needed)\n",
        "\n",
        "    # Ensure numeric columns are properly formatted\n",
        "    for col in data.columns:\n",
        "        if data[col].dtype == 'object':\n",
        "            data[col] = pd.to_numeric(data[col], errors='coerce')  # Convert to numeric where possible\n",
        "    data = data.fillna(0)  # Handle non-convertible values\n",
        "\n",
        "    return data\n",
        "\n",
        "# Function to process the uploaded CSV file and predict\n",
        "def process_and_predict(file):\n",
        "    try:\n",
        "        # Load the CSV file\n",
        "        data = pd.read_csv(file.name)\n",
        "    except Exception as e:\n",
        "        return f\"Error reading the CSV file: {e}\"\n",
        "\n",
        "    # Display initial file structure for debugging\n",
        "    print(\"CSV File Preview:\")\n",
        "    print(data.head())\n",
        "\n",
        "    # Ensure proper column structure\n",
        "    try:\n",
        "        data = preprocess(data)\n",
        "    except Exception as e:\n",
        "        return f\"Error during preprocessing: {e}\"\n",
        "\n",
        "    # Ensure the model can predict using the processed data\n",
        "    try:\n",
        "        predictions = best_model.predict(data)\n",
        "    except Exception as e:\n",
        "        return f\"Error during prediction: {e}\"\n",
        "\n",
        "    # Convert predictions to labels\n",
        "    labels = [\"Non-Diabetic\" if pred == 0 else \"Diabetic\" for pred in predictions]\n",
        "\n",
        "    return pd.DataFrame({\"Prediction\": predictions, \"Label\": labels}).to_string(index=False)\n",
        "\n",
        "# Define the Gradio interface\n",
        "interface = gr.Interface(\n",
        "    fn=process_and_predict,\n",
        "    inputs=gr.File(label=\"Upload CSV File\"),\n",
        "    outputs=gr.Textbox(label=\"Predictions\"),\n",
        "    title=\"Diabetes Prediction\",\n",
        "    description=\"Upload a CSV file to predict whether the individual is Non-Diabetic (0) or Diabetic (1).\",\n",
        ")\n",
        "\n",
        "# Launch the interface\n",
        "interface.launch(share=True)"
      ],
      "metadata": {
        "id": "qn0Pdhea8omp",
        "colab": {
          "base_uri": "https://localhost:8080/",
          "height": 611
        },
        "outputId": "7d967789-b456-428e-d895-853330aadfd2"
      },
      "execution_count": null,
      "outputs": [
        {
          "output_type": "stream",
          "name": "stdout",
          "text": [
            "Colab notebook detected. To show errors in colab notebook, set debug=True in launch()\n",
            "* Running on public URL: https://cd3b0e0f8945c27395.gradio.live\n",
            "\n",
            "This share link expires in 72 hours. For free permanent hosting and GPU upgrades, run `gradio deploy` from the terminal in the working directory to deploy to Hugging Face Spaces (https://huggingface.co/spaces)\n"
          ]
        },
        {
          "output_type": "display_data",
          "data": {
            "text/plain": [
              "<IPython.core.display.HTML object>"
            ],
            "text/html": [
              "<div><iframe src=\"https://cd3b0e0f8945c27395.gradio.live\" width=\"100%\" height=\"500\" allow=\"autoplay; camera; microphone; clipboard-read; clipboard-write;\" frameborder=\"0\" allowfullscreen></iframe></div>"
            ]
          },
          "metadata": {}
        },
        {
          "output_type": "execute_result",
          "data": {
            "text/plain": []
          },
          "metadata": {},
          "execution_count": 7
        }
      ]
    }
  ]
}